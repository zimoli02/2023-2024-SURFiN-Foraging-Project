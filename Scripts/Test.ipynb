{
 "cells": [
  {
   "cell_type": "code",
   "execution_count": 1,
   "metadata": {},
   "outputs": [
    {
     "name": "stdout",
     "output_type": "stream",
     "text": [
      "aeon\t\t\t aeon_transfer.log  rmhzbm0  test2\n",
      "aeon_transfer_final.log  db_dumps\t    test\n"
     ]
    }
   ],
   "source": [
    "import sys\n",
    "import os\n",
    "from pathlib import Path\n",
    "\n",
    "scripts_dir = Path().resolve()\n",
    "parent_dir = scripts_dir.parent\n",
    "sys.path.insert(0, str(parent_dir))\n",
    "\n",
    "import aeon\n",
    "import aeon.io.api as api\n",
    "from aeon.io import reader, video\n",
    "from aeon.schema.dataset import exp02\n",
    "from aeon.analysis.utils import visits, distancetravelled\n",
    "\n",
    "import SSM\n",
    "from SSM.ssm.plots import gradient_cmap, white_to_color_cmap\n",
    "\n",
    "import cv2\n",
    "import matplotlib\n",
    "import matplotlib.pyplot as plt\n",
    "from matplotlib.dates import date2num, SecondLocator, DateFormatter\n",
    "\n",
    "import numpy as np\n",
    "import pandas as pd\n",
    "import seaborn as sns\n",
    "\n",
    "import scipy\n",
    "import pyarrow\n",
    "\n",
    "import torch\n",
    "\n",
    "from sklearn.model_selection import train_test_split\n",
    "from sklearn.linear_model import LinearRegression\n",
    "from sklearn.metrics import mean_squared_error, r2_score\n",
    "from sklearn.preprocessing import StandardScaler\n",
    "import pymc3 as pm\n",
    "\n",
    "import Functions.inference as inference\n",
    "import Functions.kinematics as kinematics\n",
    "import Functions.learning as learning\n",
    "\n",
    "!ls /ceph/aeon\n",
    "\n",
    "# Long, individual session\n",
    "root = [Path(\"/ceph/aeon/aeon/data/raw/AEON2/experiment0.2\")]\n",
    "\n",
    "# Ensure root exists\n",
    "if not np.all([path.exists() for path in root]):\n",
    "    print(\"Cannot find root paths. Check path names or connection.\")\n",
    "    \n",
    "Exp02Summary = api.load(root, exp02.Metadata).metadata[0].toDict()\n",
    "Patch_Pos = [device['Regions']['ArrayOfPoint'] for device in Exp02Summary['Devices'] if device['Name'].startswith('ActivityPatch')]\n",
    "\n",
    "subject_events = api.load(root, exp02.ExperimentalMetadata.SubjectState)\n",
    "sessions = visits(subject_events[subject_events.id.str.startswith(\"BAA-\")])\n",
    "\n",
    "short_sessions = sessions.iloc[[4,16,17,20,23,24,25,26,28,29,30,31]]\n",
    "long_sessions = sessions.iloc[[8, 10, 11, 14]]"
   ]
  },
  {
   "cell_type": "code",
   "execution_count": 2,
   "metadata": {},
   "outputs": [
    {
     "data": {
      "text/html": [
       "<div>\n",
       "<style scoped>\n",
       "    .dataframe tbody tr th:only-of-type {\n",
       "        vertical-align: middle;\n",
       "    }\n",
       "\n",
       "    .dataframe tbody tr th {\n",
       "        vertical-align: top;\n",
       "    }\n",
       "\n",
       "    .dataframe thead th {\n",
       "        text-align: right;\n",
       "    }\n",
       "</style>\n",
       "<table border=\"1\" class=\"dataframe\">\n",
       "  <thead>\n",
       "    <tr style=\"text-align: right;\">\n",
       "      <th></th>\n",
       "      <th>id</th>\n",
       "      <th>weight_enter</th>\n",
       "      <th>weight_exit</th>\n",
       "      <th>enter</th>\n",
       "      <th>exit</th>\n",
       "      <th>duration</th>\n",
       "    </tr>\n",
       "  </thead>\n",
       "  <tbody>\n",
       "    <tr>\n",
       "      <th>4</th>\n",
       "      <td>BAA-1100700</td>\n",
       "      <td>26.3</td>\n",
       "      <td>26.3</td>\n",
       "      <td>2022-03-15 12:40:36.282139778</td>\n",
       "      <td>2022-03-15 15:56:55.801119804</td>\n",
       "      <td>0 days 03:16:19.518980026</td>\n",
       "    </tr>\n",
       "    <tr>\n",
       "      <th>16</th>\n",
       "      <td>BAA-1101818</td>\n",
       "      <td>26.2</td>\n",
       "      <td>26.7</td>\n",
       "      <td>2022-06-21 10:27:42.615139961</td>\n",
       "      <td>2022-06-21 13:15:50.564740181</td>\n",
       "      <td>0 days 02:48:07.949600220</td>\n",
       "    </tr>\n",
       "    <tr>\n",
       "      <th>17</th>\n",
       "      <td>BAA-1101819</td>\n",
       "      <td>25.4</td>\n",
       "      <td>26.4</td>\n",
       "      <td>2022-06-21 13:28:10.593659878</td>\n",
       "      <td>2022-06-21 16:34:29.241280079</td>\n",
       "      <td>0 days 03:06:18.647620201</td>\n",
       "    </tr>\n",
       "    <tr>\n",
       "      <th>20</th>\n",
       "      <td>BAA-1101818</td>\n",
       "      <td>26.4</td>\n",
       "      <td>28.0</td>\n",
       "      <td>2022-06-23 08:39:04.261089801</td>\n",
       "      <td>2022-06-23 11:14:46.121759892</td>\n",
       "      <td>0 days 02:35:41.860670091</td>\n",
       "    </tr>\n",
       "    <tr>\n",
       "      <th>23</th>\n",
       "      <td>BAA-1101818</td>\n",
       "      <td>26.9</td>\n",
       "      <td>27.8</td>\n",
       "      <td>2022-06-24 09:32:37.183360100</td>\n",
       "      <td>2022-06-24 12:29:54.365859985</td>\n",
       "      <td>0 days 02:57:17.182499885</td>\n",
       "    </tr>\n",
       "    <tr>\n",
       "      <th>24</th>\n",
       "      <td>BAA-1101823</td>\n",
       "      <td>27.9</td>\n",
       "      <td>27.9</td>\n",
       "      <td>2022-07-14 12:53:15.740799904</td>\n",
       "      <td>2022-07-14 16:35:05.846270084</td>\n",
       "      <td>0 days 03:41:50.105470180</td>\n",
       "    </tr>\n",
       "    <tr>\n",
       "      <th>25</th>\n",
       "      <td>BAA-1101821</td>\n",
       "      <td>25.0</td>\n",
       "      <td>26.0</td>\n",
       "      <td>2022-07-15 13:14:40.239679813</td>\n",
       "      <td>2022-07-15 15:47:44.568860054</td>\n",
       "      <td>0 days 02:33:04.329180241</td>\n",
       "    </tr>\n",
       "    <tr>\n",
       "      <th>26</th>\n",
       "      <td>BAA-1101819</td>\n",
       "      <td>25.7</td>\n",
       "      <td>27.1</td>\n",
       "      <td>2022-07-19 10:37:08.422299862</td>\n",
       "      <td>2022-07-19 16:04:43.376220226</td>\n",
       "      <td>0 days 05:27:34.953920364</td>\n",
       "    </tr>\n",
       "    <tr>\n",
       "      <th>28</th>\n",
       "      <td>BAA-1101818</td>\n",
       "      <td>26.7</td>\n",
       "      <td>29.5</td>\n",
       "      <td>2022-08-15 10:25:01.651199818</td>\n",
       "      <td>2022-08-15 13:04:50.849309921</td>\n",
       "      <td>0 days 02:39:49.198110103</td>\n",
       "    </tr>\n",
       "    <tr>\n",
       "      <th>29</th>\n",
       "      <td>BAA-1101819</td>\n",
       "      <td>27.5</td>\n",
       "      <td>30.0</td>\n",
       "      <td>2022-08-15 13:11:23.791259766</td>\n",
       "      <td>2022-08-15 16:10:27.350080013</td>\n",
       "      <td>0 days 02:59:03.558820247</td>\n",
       "    </tr>\n",
       "    <tr>\n",
       "      <th>30</th>\n",
       "      <td>BAA-1101818</td>\n",
       "      <td>26.5</td>\n",
       "      <td>30.1</td>\n",
       "      <td>2022-08-16 09:25:53.963200092</td>\n",
       "      <td>2022-08-16 12:34:02.296770096</td>\n",
       "      <td>0 days 03:08:08.333570004</td>\n",
       "    </tr>\n",
       "    <tr>\n",
       "      <th>31</th>\n",
       "      <td>BAA-1101819</td>\n",
       "      <td>27.3</td>\n",
       "      <td>30.5</td>\n",
       "      <td>2022-08-16 12:38:11.445700169</td>\n",
       "      <td>2022-08-16 15:41:41.197569847</td>\n",
       "      <td>0 days 03:03:29.751869678</td>\n",
       "    </tr>\n",
       "  </tbody>\n",
       "</table>\n",
       "</div>"
      ],
      "text/plain": [
       "             id  weight_enter  weight_exit                         enter  \\\n",
       "4   BAA-1100700          26.3         26.3 2022-03-15 12:40:36.282139778   \n",
       "16  BAA-1101818          26.2         26.7 2022-06-21 10:27:42.615139961   \n",
       "17  BAA-1101819          25.4         26.4 2022-06-21 13:28:10.593659878   \n",
       "20  BAA-1101818          26.4         28.0 2022-06-23 08:39:04.261089801   \n",
       "23  BAA-1101818          26.9         27.8 2022-06-24 09:32:37.183360100   \n",
       "24  BAA-1101823          27.9         27.9 2022-07-14 12:53:15.740799904   \n",
       "25  BAA-1101821          25.0         26.0 2022-07-15 13:14:40.239679813   \n",
       "26  BAA-1101819          25.7         27.1 2022-07-19 10:37:08.422299862   \n",
       "28  BAA-1101818          26.7         29.5 2022-08-15 10:25:01.651199818   \n",
       "29  BAA-1101819          27.5         30.0 2022-08-15 13:11:23.791259766   \n",
       "30  BAA-1101818          26.5         30.1 2022-08-16 09:25:53.963200092   \n",
       "31  BAA-1101819          27.3         30.5 2022-08-16 12:38:11.445700169   \n",
       "\n",
       "                            exit                  duration  \n",
       "4  2022-03-15 15:56:55.801119804 0 days 03:16:19.518980026  \n",
       "16 2022-06-21 13:15:50.564740181 0 days 02:48:07.949600220  \n",
       "17 2022-06-21 16:34:29.241280079 0 days 03:06:18.647620201  \n",
       "20 2022-06-23 11:14:46.121759892 0 days 02:35:41.860670091  \n",
       "23 2022-06-24 12:29:54.365859985 0 days 02:57:17.182499885  \n",
       "24 2022-07-14 16:35:05.846270084 0 days 03:41:50.105470180  \n",
       "25 2022-07-15 15:47:44.568860054 0 days 02:33:04.329180241  \n",
       "26 2022-07-19 16:04:43.376220226 0 days 05:27:34.953920364  \n",
       "28 2022-08-15 13:04:50.849309921 0 days 02:39:49.198110103  \n",
       "29 2022-08-15 16:10:27.350080013 0 days 02:59:03.558820247  \n",
       "30 2022-08-16 12:34:02.296770096 0 days 03:08:08.333570004  \n",
       "31 2022-08-16 15:41:41.197569847 0 days 03:03:29.751869678  "
      ]
     },
     "metadata": {},
     "output_type": "display_data"
    }
   ],
   "source": [
    "display(short_sessions)"
   ]
  },
  {
   "cell_type": "code",
   "execution_count": 3,
   "metadata": {},
   "outputs": [
    {
     "data": {
      "text/html": [
       "<div>\n",
       "<style scoped>\n",
       "    .dataframe tbody tr th:only-of-type {\n",
       "        vertical-align: middle;\n",
       "    }\n",
       "\n",
       "    .dataframe tbody tr th {\n",
       "        vertical-align: top;\n",
       "    }\n",
       "\n",
       "    .dataframe thead th {\n",
       "        text-align: right;\n",
       "    }\n",
       "</style>\n",
       "<table border=\"1\" class=\"dataframe\">\n",
       "  <thead>\n",
       "    <tr style=\"text-align: right;\">\n",
       "      <th></th>\n",
       "      <th>id</th>\n",
       "      <th>weight_enter</th>\n",
       "      <th>weight_exit</th>\n",
       "      <th>enter</th>\n",
       "      <th>exit</th>\n",
       "      <th>duration</th>\n",
       "    </tr>\n",
       "  </thead>\n",
       "  <tbody>\n",
       "    <tr>\n",
       "      <th>8</th>\n",
       "      <td>BAA-1100699</td>\n",
       "      <td>26.75</td>\n",
       "      <td>29.0</td>\n",
       "      <td>2022-03-29 13:11:37.277699947</td>\n",
       "      <td>2022-04-04 09:16:51.086110115</td>\n",
       "      <td>5 days 20:05:13.808410168</td>\n",
       "    </tr>\n",
       "    <tr>\n",
       "      <th>10</th>\n",
       "      <td>BAA-1100701</td>\n",
       "      <td>26.70</td>\n",
       "      <td>30.6</td>\n",
       "      <td>2022-04-04 15:54:07.945059776</td>\n",
       "      <td>2022-04-08 16:34:36.183650017</td>\n",
       "      <td>4 days 00:40:28.238590241</td>\n",
       "    </tr>\n",
       "    <tr>\n",
       "      <th>11</th>\n",
       "      <td>BAA-1100699</td>\n",
       "      <td>29.00</td>\n",
       "      <td>28.2</td>\n",
       "      <td>2022-04-20 11:51:24.997630119</td>\n",
       "      <td>2022-04-28 10:02:56.655809879</td>\n",
       "      <td>7 days 22:11:31.658179760</td>\n",
       "    </tr>\n",
       "    <tr>\n",
       "      <th>14</th>\n",
       "      <td>BAA-1100702</td>\n",
       "      <td>27.00</td>\n",
       "      <td>28.9</td>\n",
       "      <td>2022-05-03 11:08:12.660739899</td>\n",
       "      <td>2022-05-12 09:21:42.411650181</td>\n",
       "      <td>8 days 22:13:29.750910282</td>\n",
       "    </tr>\n",
       "  </tbody>\n",
       "</table>\n",
       "</div>"
      ],
      "text/plain": [
       "             id  weight_enter  weight_exit                         enter  \\\n",
       "8   BAA-1100699         26.75         29.0 2022-03-29 13:11:37.277699947   \n",
       "10  BAA-1100701         26.70         30.6 2022-04-04 15:54:07.945059776   \n",
       "11  BAA-1100699         29.00         28.2 2022-04-20 11:51:24.997630119   \n",
       "14  BAA-1100702         27.00         28.9 2022-05-03 11:08:12.660739899   \n",
       "\n",
       "                            exit                  duration  \n",
       "8  2022-04-04 09:16:51.086110115 5 days 20:05:13.808410168  \n",
       "10 2022-04-08 16:34:36.183650017 4 days 00:40:28.238590241  \n",
       "11 2022-04-28 10:02:56.655809879 7 days 22:11:31.658179760  \n",
       "14 2022-05-12 09:21:42.411650181 8 days 22:13:29.750910282  "
      ]
     },
     "metadata": {},
     "output_type": "display_data"
    }
   ],
   "source": [
    "display(long_sessions)"
   ]
  },
  {
   "cell_type": "code",
   "execution_count": 14,
   "metadata": {},
   "outputs": [],
   "source": [
    "start = pd.Timestamp('2022-04-20 11:51:24.997630119')\n",
    "end = pd.Timestamp('2022-04-28 09:02:59.69')\n",
    "mouse_pos = api.load(root, exp02.CameraTop.Position, start=start, end=end)"
   ]
  },
  {
   "cell_type": "code",
   "execution_count": null,
   "metadata": {},
   "outputs": [],
   "source": [
    "df = mouse_pos.copy()\n",
    "nan_blocks = df['x'].isna()\n",
    "count = 0\n",
    "for group, data in mouse_pos[nan_blocks].groupby((nan_blocks != nan_blocks.shift()).cumsum()):\n",
    "    count += 1\n",
    "    latest_valid_index = mouse_pos.loc[:data.index[0]-pd.Timedelta('0.018S'), 'x'].last_valid_index()\n",
    "    next_valid_index = mouse_pos.loc[data.index[-1]+pd.Timedelta('0.018S'):].first_valid_index()"
   ]
  },
  {
   "cell_type": "code",
   "execution_count": 2,
   "metadata": {},
   "outputs": [],
   "source": [
    "start = pd.Timestamp('2022-04-20 11:51:24.997630119')\n",
    "end = pd.Timestamp('2022-04-28 10:02:56.655809879')\n",
    "mouse_pos = api.load(root, exp02.CameraTop.Position, start=start, end=end)\n",
    "        \n",
    "mouse_pos = kinematics.ProcessRawData(mouse_pos, root, start, end, exclude_maintenance=True, fix_nan=False, fix_nest=False)\n",
    "\n",
    "        \n",
    "#mouse_pos = kinematics.FixNan(mouse_pos[start:start+pd.Timedelta('2H')])\n",
    "mouse_pos = mouse_pos[start:start+pd.Timedelta('2H')]\n",
    "latest_valid_index = mouse_pos.loc[:, 'x'].last_valid_index()\n",
    "mouse_pos = mouse_pos[start:latest_valid_index+pd.Timedelta('0.01S')]\n",
    "        \n",
    "df = mouse_pos.copy()\n",
    "nan_blocks = df['x'].isna()\n",
    "\n",
    "for group, data in mouse_pos[nan_blocks].groupby((nan_blocks != nan_blocks.shift()).cumsum()):\n",
    "    duration = (data.index[-1] - data.index[0]).total_seconds()\n",
    "            \n",
    "    latest_valid_index = mouse_pos.loc[:data.index[0]-pd.Timedelta('0.018S'), 'x'].last_valid_index()\n",
    "    latest_valid_values = mouse_pos.loc[latest_valid_index, ['x', 'y']].values\n",
    "        \n",
    "    if len(data) == 1:\n",
    "        df.loc[data.index, 'x'] = latest_valid_values[0]\n",
    "        df.loc[data.index, 'y'] = latest_valid_values[1]\n",
    "            \n",
    "    else:    \n",
    "        next_valid_index = mouse_pos.loc[data.index[-1]+pd.Timedelta('0.018S'):].first_valid_index()\n",
    "        if next_valid_index is None: \n",
    "            print(data)\n",
    "            break\n",
    "        next_valid_values = mouse_pos.loc[next_valid_index, ['x', 'y']].values\n",
    "                \n",
    "        interpolated_times = (data.index - latest_valid_index).total_seconds() / duration\n",
    "                        \n",
    "        total_x = next_valid_values[0] - latest_valid_values[0]\n",
    "        total_y = next_valid_values[1] - latest_valid_values[1]\n",
    "                        \n",
    "        df.loc[data.index, 'x'] = latest_valid_values[0] + interpolated_times * total_x\n",
    "        df.loc[data.index, 'y'] = latest_valid_values[1] + interpolated_times * total_y\n",
    "    "
   ]
  },
  {
   "cell_type": "code",
   "execution_count": 4,
   "metadata": {},
   "outputs": [
    {
     "data": {
      "text/plain": [
       "'LongSession'"
      ]
     },
     "execution_count": 4,
     "metadata": {},
     "output_type": "execute_result"
    }
   ],
   "source": [
    "title = 'LongSession2'\n",
    "title[0:11]"
   ]
  },
  {
   "cell_type": "code",
   "execution_count": 1,
   "metadata": {},
   "outputs": [
    {
     "name": "stdout",
     "output_type": "stream",
     "text": [
      "ShortSession0\n",
      "sigma_a:  214.12889099121094\n",
      "sigma_x:  -0.5866673798271702\n",
      "sigma_y:  0.3635427066052031\n",
      "sqrt_diag_V0:  52.63426146106122\n",
      " \n",
      "ShortSession1\n",
      "sigma_a:  136.4071044921875\n",
      "sigma_x:  0.4751876603956538\n",
      "sigma_y:  0.1930825613531352\n",
      "sqrt_diag_V0:  53.35174238978601\n",
      " \n",
      "ShortSession2\n",
      "sigma_a:  504.87884521484375\n",
      "sigma_x:  0.7613704454108411\n",
      "sigma_y:  1.6495740120860443\n",
      "sqrt_diag_V0:  215.6021540192916\n",
      " \n",
      "ShortSession3\n",
      "sigma_a:  422.48626708984375\n",
      "sigma_x:  -0.4660510221125924\n",
      "sigma_y:  0.19663594525980846\n",
      "sqrt_diag_V0:  152.91396538130388\n",
      " \n",
      "ShortSession4\n",
      "sigma_a:  232.239501953125\n",
      "sigma_x:  -0.5222532679091298\n",
      "sigma_y:  0.30354362596848455\n",
      "sqrt_diag_V0:  68.18996748692327\n",
      " \n",
      "ShortSession5\n",
      "sigma_a:  244.88157653808594\n",
      "sigma_x:  -0.2029959934513377\n",
      "sigma_y:  -0.7442065242262328\n",
      "sqrt_diag_V0:  83.86288791764395\n",
      " \n",
      "ShortSession6\n",
      "sigma_a:  99.7579345703125\n",
      "sigma_x:  -0.10978131313458078\n",
      "sigma_y:  0.21133249741003102\n",
      "sqrt_diag_V0:  32.98934508089078\n",
      " \n",
      "ShortSession7\n",
      "sigma_a:  392.6501159667969\n",
      "sigma_x:  0.5108428663978253\n",
      "sigma_y:  0.32087700620845244\n",
      "sqrt_diag_V0:  78.5733568215057\n",
      " \n",
      "ShortSession8\n",
      "sigma_a:  290.8110656738281\n",
      "sigma_x:  0.36695783976750546\n",
      "sigma_y:  -0.20247700237096608\n",
      "sqrt_diag_V0:  75.34298613655498\n",
      " \n",
      "ShortSession9\n",
      "sigma_a:  314.0809326171875\n",
      "sigma_x:  -0.4913162062503408\n",
      "sigma_y:  0.3447306362082418\n",
      "sqrt_diag_V0:  92.31901690820234\n",
      " \n",
      "ShortSession10\n",
      "sigma_a:  147.69085693359375\n",
      "sigma_x:  0.2163830800745441\n",
      "sigma_y:  0.23741937667294546\n",
      "sqrt_diag_V0:  54.603871030573266\n",
      " \n",
      "ShortSession11\n",
      "sigma_a:  143.5299530029297\n",
      "sigma_x:  0.2130571069336336\n",
      "sigma_y:  -0.21340732862025769\n",
      "sqrt_diag_V0:  32.369284158824584\n",
      " \n"
     ]
    }
   ],
   "source": [
    "import numpy as np\n",
    "for i in range(12):\n",
    "    title = 'ShortSession' + str(i)\n",
    "    print(title)\n",
    "    try:\n",
    "        P = np.load('../Data/MouseKinematicParameters/' + title + 'Parameters.npz', allow_pickle=True)\n",
    "        sigma_a, sigma_x, sigma_y, sqrt_diag_V0_value, B, Qe, m0, V0, Z, R = P['sigma_a'].item(), P['sigma_x'].item(), P['sigma_y'].item(), P['sqrt_diag_V0_value'].item(), P['B'], P['Qe'], P['m0'], P['V0'], P['Z'], P['R']\n",
    "        print('sigma_a: ', sigma_a)\n",
    "        print('sigma_x: ', sigma_x)\n",
    "        print('sigma_y: ', sigma_y)\n",
    "        print('sqrt_diag_V0: ', sqrt_diag_V0_value)\n",
    "        \n",
    "        print(\" \")\n",
    "    except FileNotFoundError: continue"
   ]
  },
  {
   "cell_type": "code",
   "execution_count": 6,
   "metadata": {},
   "outputs": [
    {
     "name": "stdout",
     "output_type": "stream",
     "text": [
      "LongSession0\n",
      "sigma_a:  236.20263671875\n",
      "sqrt_diag_V0:  51.061492297298834\n",
      " \n",
      "LongSession1\n",
      "sigma_a:  240.68421936035156\n",
      "sqrt_diag_V0:  59.89037970518794\n",
      " \n",
      "LongSession2\n",
      "sigma_a:  210.2962188720703\n",
      "sqrt_diag_V0:  48.120707393978876\n",
      " \n",
      "LongSession3\n",
      "sigma_a:  194.5465087890625\n",
      "sqrt_diag_V0:  68.78434102918425\n",
      " \n"
     ]
    }
   ],
   "source": [
    "for i in range(4):\n",
    "    title = 'LongSession' + str(i)\n",
    "    print(title)\n",
    "    try:\n",
    "        P = np.load('../Data/MouseKinematicParameters/' + title + 'Parameters.npz', allow_pickle=True)\n",
    "        sigma_a, sigma_x, sigma_y, sqrt_diag_V0_value, B, Qe, m0, V0, Z, R = P['sigma_a'].item(), P['sigma_x'].item(), P['sigma_y'].item(), P['sqrt_diag_V0_value'].item(), P['B'], P['Qe'], P['m0'], P['V0'], P['Z'], P['R']\n",
    "        print('sigma_a: ', sigma_a)\n",
    "        print('sqrt_diag_V0: ', sqrt_diag_V0_value)\n",
    "        print(\" \")\n",
    "    except FileNotFoundError: continue"
   ]
  },
  {
   "cell_type": "code",
   "execution_count": 8,
   "metadata": {},
   "outputs": [],
   "source": [
    "Manual = np.load('../Data/MouseKinematicParameters/ShortSessions_LL_Manual.npy', allow_pickle=True)\n",
    "Learned = np.load('../Data/MouseKinematicParameters/ShortSessions_LL_Learned.npy', allow_pickle=True)"
   ]
  },
  {
   "cell_type": "code",
   "execution_count": 9,
   "metadata": {},
   "outputs": [
    {
     "data": {
      "text/plain": [
       "array([  -50.75167087,   -33.7864688 ,   -55.46295733,   -91.97254088,\n",
       "         -28.98819496,   -42.7243799 ,   -42.29880334, -1330.15819116,\n",
       "         -37.5178155 ,   -46.46203257,   -45.12113761,   -39.93614478])"
      ]
     },
     "execution_count": 9,
     "metadata": {},
     "output_type": "execute_result"
    }
   ],
   "source": [
    "Manual"
   ]
  },
  {
   "cell_type": "code",
   "execution_count": 10,
   "metadata": {},
   "outputs": [
    {
     "data": {
      "text/plain": [
       "array([   -4.07062939,   -11.17530799,    -3.45503605,    -7.67185293,\n",
       "          -3.3124826 ,    -3.39820032,   -11.38716065, -2262.43574052,\n",
       "          -8.28957626,    -4.15754937,    -4.12955896,   -10.97325871])"
      ]
     },
     "execution_count": 10,
     "metadata": {},
     "output_type": "execute_result"
    }
   ],
   "source": [
    "Learned"
   ]
  },
  {
   "cell_type": "code",
   "execution_count": 12,
   "metadata": {},
   "outputs": [],
   "source": [
    "import matplotlib.pyplot as plt"
   ]
  },
  {
   "cell_type": "code",
   "execution_count": 13,
   "metadata": {},
   "outputs": [
    {
     "data": {
      "image/png": "[encoded data removed]",
      "text/plain": [
       "<Figure size 640x480 with 1 Axes>"
      ]
     },
     "metadata": {},
     "output_type": "display_data"
    }
   ],
   "source": [
    "plt.boxplot(np.array([Manual, Learned]).T)\n",
    "plt.xlabel('')\n",
    "plt.show()"
   ]
  },
  {
   "cell_type": "code",
   "execution_count": 1,
   "metadata": {},
   "outputs": [],
   "source": [
    "import numpy as np\n",
    "title = 'ShortSession9'\n",
    "filterRes = np.load('../Data/ProcessedMouseKinematics/' + title+'filterRes.npz')"
   ]
  },
  {
   "cell_type": "code",
   "execution_count": 44,
   "metadata": {},
   "outputs": [
    {
     "name": "stdout",
     "output_type": "stream",
     "text": [
      "[-18152914.20351119 -18100708.79847356 -18009292.18370712\n",
      " -18204748.45267076 -18266324.19227631 -17903890.34458693\n",
      " -18335350.97152016  -9029536.00348217 -18395894.2338539\n",
      " -18427466.70855271 -18978448.64852837 -20361557.47878259]\n"
     ]
    }
   ],
   "source": [
    "LogLikelihood = np.load('../Data/HMMStates/LL.npy', allow_pickle=True)\n",
    "print(LogLikelihood[:,2])"
   ]
  },
  {
   "cell_type": "code",
   "execution_count": 37,
   "metadata": {},
   "outputs": [
    {
     "data": {
      "image/png": "[encoded data removed]",
      "text/plain": [
       "<Figure size 1200x400 with 2 Axes>"
      ]
     },
     "metadata": {},
     "output_type": "display_data"
    }
   ],
   "source": [
    "start_, end_ = 10*60*50, 11*60*50\n",
    "obs = np.load('../Data/MouseKinematicParameters/ShortSession0Raw.npy', allow_pickle=True)\n",
    "\n",
    "start, end = 2200, 2260\n",
    "    \n",
    "x, y = obs[0][start:end], obs[1][start:end]\n",
    "    \n",
    "smoothRes = np.load('../Data/ProcessedMouseKinematics/ShortSession0smoothRes.npz')\n",
    "smooth_x = smoothRes['xnN'][0][0][start_:end_][start:end]\n",
    "smooth_y = smoothRes['xnN'][3][0][start_:end_][start:end]\n",
    "smooth_x_var = smoothRes['VnN'][0][0][start_:end_][start:end]\n",
    "smooth_y_var = smoothRes['VnN'][3][3][start_:end_][start:end]\n",
    "\n",
    "time = np.arange(0, len(x), 1)\n",
    "    \n",
    "fig, axs = plt.subplots(1,2, figsize = (12,4))\n",
    "axs[0].plot(time, x, color = 'black', linewidth = 0.5, label = 'Raw X')\n",
    "axs[0].scatter(time, x, color = 'black', s = 2)\n",
    "axs[0].plot(time, smooth_x, color = 'red', linewidth = 0.5, label = 'Smoothed X')\n",
    "axs[0].scatter(time, smooth_x, color = 'red', s = 2)\n",
    "axs[0].fill_between(time, smooth_x - 1.65*(smooth_x_var**0.5), smooth_x + 1.65*(smooth_x_var**0.5), color = 'pink', alpha = 0.7)\n",
    "axs[0].legend(loc = 'upper right')\n",
    "\n",
    "axs[1].plot(time, y, color = 'black', linewidth = 0.5, label = 'Raw Y')\n",
    "axs[1].scatter(time, y, color = 'black', s = 2)\n",
    "axs[1].plot(time, smooth_y, color = 'red', linewidth = 0.5, label = 'Smoothed Y')\n",
    "axs[1].scatter(time, smooth_y, color = 'red', s=2)\n",
    "axs[1].fill_between(time, smooth_y - 1.65*(smooth_y_var**0.5), smooth_y + 1.65*(smooth_y_var**0.5), color = 'pink', alpha = 0.7)\n",
    "axs[1].legend(loc = 'upper right')\n",
    "\n",
    "axs[0].set_ylabel('Position X')\n",
    "axs[0].set_yticks([584, 586, 588, 590, 592, 594, 596])\n",
    "axs[1].set_ylabel('Position Y')\n",
    "axs[1].set_yticks([230, 235, 240, 245, 250])\n",
    "    \n",
    "axs[0].set_xticks([])\n",
    "axs[1].set_xticks([])\n",
    "\n",
    "axs[0].spines['top'].set_visible(False)\n",
    "axs[0].spines['right'].set_visible(False)\n",
    "axs[1].spines['top'].set_visible(False)\n",
    "axs[1].spines['right'].set_visible(False)\n",
    "    \n",
    "plt.autoscale()\n",
    "plt.show()"
   ]
  },
  {
   "cell_type": "code",
   "execution_count": 22,
   "metadata": {},
   "outputs": [
    {
     "data": {
      "image/png": "[encoded data removed]",
      "text/plain": [
       "<Figure size 640x480 with 1 Axes>"
      ]
     },
     "metadata": {},
     "output_type": "display_data"
    }
   ],
   "source": [
    "smooth_x = smoothRes['xnN'][0][0]\n",
    "plt.plot(smooth_x_var)\n",
    "plt.show()"
   ]
  },
  {
   "cell_type": "code",
   "execution_count": 87,
   "metadata": {},
   "outputs": [
    {
     "name": "stdout",
     "output_type": "stream",
     "text": [
      "4\n",
      "abcabc\n"
     ]
    }
   ],
   "source": [
    "def has_repetitive_chars(s):\n",
    "    return len(set(s)) < len(s)\n",
    "def SplitString(s):\n",
    "    max_length = 0\n",
    "    set_s = set(s)\n",
    "    for i in set_s:\n",
    "        indices = [index for index, char in enumerate(s) if char == i]\n",
    "        indices = np.concatenate((np.array([0]),indices))\n",
    "        indices = np.concatenate((indices,np.array([len(s)-1])))\n",
    "        for j in range(0,len(indices)-2):\n",
    "            start = indices[j]\n",
    "            end = indices[j+2]\n",
    "            length = end - start\n",
    "            if length > max_length:\n",
    "                max_length = length\n",
    "                s_max = s[start:end]\n",
    "        s = s_max\n",
    "    return max_length\n",
    "def lengthOfLongestSubstring(s):\n",
    "\n",
    "    flag = np.zeros(len(s))\n",
    "    for i in range(1,len(s)):\n",
    "        if s[i] == s[i-1]: \n",
    "            flag[i-1] = 1\n",
    "            flag[i] = 1\n",
    "    indices = np.where(flag == 1)[0]\n",
    "    if len(indices) == 0:\n",
    "        if has_repetitive_chars(s): return SplitString(s)\n",
    "        else: return len(s)\n",
    "    indices = np.concatenate((np.array([0]),indices))\n",
    "    indices = np.concatenate((indices,np.array([len(s)-1])))\n",
    "\n",
    "    max_length = 0\n",
    "    for i in range(0,len(indices)-1):\n",
    "        start = indices[i]\n",
    "        end = indices[i+1]\n",
    "        length = end - start\n",
    "        if start-1 > 0  and s[start-1]!= s[end]: \n",
    "            start -= 1\n",
    "            length += 1\n",
    "        if has_repetitive_chars(s[start:end]):\n",
    "            length = SplitString(s[start:end])\n",
    "        if length > max_length:\n",
    "            max_length = length\n",
    "            print(max_length)\n",
    "            print(s[start:end])\n",
    "\n",
    "lengthOfLongestSubstring('abcabcbb')"
   ]
  },
  {
   "cell_type": "code",
   "execution_count": 89,
   "metadata": {},
   "outputs": [
    {
     "ename": "IndexError",
     "evalue": "list index out of range",
     "output_type": "error",
     "traceback": [
      "\u001b[0;31m---------------------------------------------------------------------------\u001b[0m",
      "\u001b[0;31mIndexError\u001b[0m                                Traceback (most recent call last)",
      "Cell \u001b[0;32mIn[89], line 27\u001b[0m\n\u001b[1;32m     24\u001b[0m                     nums2_end \u001b[38;5;241m+\u001b[39m\u001b[38;5;241m=\u001b[39m \u001b[38;5;241m1\u001b[39m\n\u001b[1;32m     25\u001b[0m         \u001b[38;5;28;01mreturn\u001b[39;00m med\n\u001b[0;32m---> 27\u001b[0m \u001b[43mfindMedianSortedArrays\u001b[49m\u001b[43m(\u001b[49m\u001b[43m[\u001b[49m\u001b[38;5;241;43m1\u001b[39;49m\u001b[43m,\u001b[49m\u001b[38;5;241;43m2\u001b[39;49m\u001b[43m]\u001b[49m\u001b[43m,\u001b[49m\u001b[43m \u001b[49m\u001b[43m[\u001b[49m\u001b[38;5;241;43m3\u001b[39;49m\u001b[43m,\u001b[49m\u001b[38;5;241;43m4\u001b[39;49m\u001b[43m]\u001b[49m\u001b[43m)\u001b[49m\n",
      "Cell \u001b[0;32mIn[89], line 14\u001b[0m, in \u001b[0;36mfindMedianSortedArrays\u001b[0;34m(nums1, nums2)\u001b[0m\n\u001b[1;32m     12\u001b[0m \u001b[38;5;28;01mwhile\u001b[39;00m flag \u001b[38;5;241m==\u001b[39m \u001b[38;5;28;01mFalse\u001b[39;00m:\n\u001b[1;32m     13\u001b[0m     left_max \u001b[38;5;241m=\u001b[39m \u001b[38;5;28mmax\u001b[39m(nums1[nums1_end\u001b[38;5;241m-\u001b[39m\u001b[38;5;241m1\u001b[39m], nums2[nums2_end\u001b[38;5;241m-\u001b[39m\u001b[38;5;241m1\u001b[39m])\n\u001b[0;32m---> 14\u001b[0m     right_min \u001b[38;5;241m=\u001b[39m \u001b[38;5;28mmin\u001b[39m(nums1[nums1_end], \u001b[43mnums2\u001b[49m\u001b[43m[\u001b[49m\u001b[43mnums2_end\u001b[49m\u001b[43m]\u001b[49m)\n\u001b[1;32m     15\u001b[0m     \u001b[38;5;28;01mif\u001b[39;00m left_max \u001b[38;5;241m<\u001b[39m\u001b[38;5;241m=\u001b[39m right_min:\n\u001b[1;32m     16\u001b[0m         flag \u001b[38;5;241m=\u001b[39m \u001b[38;5;28;01mTrue\u001b[39;00m\n",
      "\u001b[0;31mIndexError\u001b[0m: list index out of range"
     ]
    }
   ],
   "source": [
    "def findMedianSortedArrays(nums1, nums2):\n",
    "        if len(nums1)  > len(nums2):\n",
    "            return findMedianSortedArrays(nums2, nums1)\n",
    "        length = len(nums1) + len(nums2)\n",
    "        nums1_end = len (nums1) // 2\n",
    "        nums2_end = len (nums2) // 2\n",
    "        if length % 2 == 1:\n",
    "            nums2_end += (length-1) // 2 - nums1_end - nums2_end\n",
    "        else:\n",
    "            nums2_end += length // 2 - nums1_end - nums2_end\n",
    "        flag = False\n",
    "        while flag == False:\n",
    "            left_max = max(nums1[nums1_end-1], nums2[nums2_end-1])\n",
    "            right_min = min(nums1[nums1_end], nums2[nums2_end])\n",
    "            if left_max <= right_min:\n",
    "                flag = True\n",
    "                med = left_max\n",
    "            else:\n",
    "                if nums1[nums1_end-1] > nums2[nums2_end-1]:\n",
    "                    nums1_end += 1\n",
    "                    nums2_end -= 1\n",
    "                else: \n",
    "                    nums1_end -= 1\n",
    "                    nums2_end += 1\n",
    "        return med\n",
    "\n",
    "findMedianSortedArrays([1,2], [3,4])"
   ]
  },
  {
   "cell_type": "code",
   "execution_count": 101,
   "metadata": {},
   "outputs": [
    {
     "name": "stdout",
     "output_type": "stream",
     "text": [
      "2.5\n"
     ]
    }
   ],
   "source": [
    "nums1, nums2 = [1,2], [3,4]\n",
    "length = len(nums1) + len(nums2)\n",
    "nums1_end = len (nums1) // 2 - 1\n",
    "nums2_end = len (nums2) // 2 - 1\n",
    "\n",
    "if length % 2 == 1:\n",
    "    nums2_end += (length + 1) // 2 - len (nums1) // 2 - len (nums2) // 2\n",
    "else:\n",
    "    nums2_end += (length) // 2 - len (nums1) // 2 - len (nums2) // 2\n",
    "\n",
    "\n",
    "flag = False\n",
    "while flag == False:\n",
    "    if nums1_end == -1:\n",
    "        left_max_1, right_min_1 = -1e7, nums1[0]\n",
    "    elif nums1_end == len(nums1)-1:\n",
    "            left_max_1, right_min_1 = nums1[-1], 1e7\n",
    "    else:\n",
    "        left_max_1, right_min_1 = nums1[nums1_end], nums1[nums1_end+1]\n",
    "\n",
    "    if nums2_end == len(nums2)-1:\n",
    "        left_max_2, right_min_2 = nums2[-1], 1e7\n",
    "    elif nums2_end == -1:\n",
    "        left_max_2, right_min_2 = -1e7, nums2[0]\n",
    "    else:\n",
    "        left_max_2, right_min_2 = nums2[nums2_end], nums2[nums2_end+1]\n",
    "\n",
    "    left_max = max(left_max_1, left_max_2)\n",
    "    right_min = min(right_min_1, right_min_2)\n",
    "    if left_max <= right_min:\n",
    "        flag = True\n",
    "        if length % 2 == 1: med = left_max\n",
    "        else: med = (left_max + right_min)/2\n",
    "        print(med)\n",
    "    else:\n",
    "        if nums1[nums1_end] < nums2[nums2_end]:\n",
    "            nums1_end += 1\n",
    "            nums2_end -= 1\n",
    "        else: \n",
    "            nums1_end -= 1\n",
    "            nums2_end += 1"
   ]
  },
  {
   "cell_type": "code",
   "execution_count": 98,
   "metadata": {},
   "outputs": [
    {
     "data": {
      "text/plain": [
       "2.5"
      ]
     },
     "execution_count": 98,
     "metadata": {},
     "output_type": "execute_result"
    }
   ],
   "source": [
    "med"
   ]
  },
  {
   "cell_type": "code",
   "execution_count": 92,
   "metadata": {},
   "outputs": [
    {
     "data": {
      "text/plain": [
       "2"
      ]
     },
     "execution_count": 92,
     "metadata": {},
     "output_type": "execute_result"
    }
   ],
   "source": [
    "nums2_end"
   ]
  }
 ],
 "metadata": {
  "kernelspec": {
   "display_name": "lds",
   "language": "python",
   "name": "python3"
  },
  "language_info": {
   "codemirror_mode": {
    "name": "ipython",
    "version": 3
   },
   "file_extension": ".py",
   "mimetype": "text/x-python",
   "name": "python",
   "nbconvert_exporter": "python",
   "pygments_lexer": "ipython3",
   "version": "3.9.18"
  }
 },
 "nbformat": 4,
 "nbformat_minor": 2
}
