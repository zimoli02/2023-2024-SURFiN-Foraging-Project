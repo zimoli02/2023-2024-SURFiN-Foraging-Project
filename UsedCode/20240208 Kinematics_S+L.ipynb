{
 "cells": [
  {
   "cell_type": "code",
   "execution_count": 1,
   "metadata": {},
   "outputs": [],
   "source": [
    "import cv2\n",
    "import matplotlib\n",
    "import matplotlib.pyplot as plt\n",
    "from matplotlib.dates import date2num, SecondLocator, DateFormatter\n",
    "\n",
    "import plotly.graph_objects as go\n",
    "import plotly.express as px\n",
    "\n",
    "import numpy as np\n",
    "import pandas as pd\n",
    "import seaborn as sns\n",
    "from pathlib import Path\n",
    "import scipy\n",
    "\n",
    "import inference\n",
    "\n",
    "import aeon\n",
    "import aeon.io.api as api\n",
    "from aeon.io import reader, video\n",
    "from aeon.schema.dataset import exp02\n",
    "from aeon.analysis.utils import visits, distancetravelled\n",
    "\n",
    "import kinematics\n",
    "import patch"
   ]
  },
  {
   "cell_type": "code",
   "execution_count": 2,
   "metadata": {},
   "outputs": [
    {
     "name": "stdout",
     "output_type": "stream",
     "text": [
      "aeon\t\t\t aeon_transfer.log  rmhzbm0  test2\n",
      "aeon_transfer_final.log  db_dumps\t    test\n"
     ]
    }
   ],
   "source": [
    "!ls /ceph/aeon"
   ]
  },
  {
   "cell_type": "code",
   "execution_count": 3,
   "metadata": {},
   "outputs": [],
   "source": [
    "# Long, individual session\n",
    "root = [Path(\"/ceph/aeon/aeon/data/raw/AEON2/experiment0.2\")]\n",
    "\n",
    "# Ensure root exists\n",
    "if not np.all([path.exists() for path in root]):\n",
    "    print(\"Cannot find root paths. Check path names or connection.\")\n",
    "    \n",
    "Exp02Summary = api.load(root, exp02.Metadata).metadata[0].toDict()\n",
    "Patch_Pos = [device['Regions']['ArrayOfPoint'] for device in Exp02Summary['Devices'] if device['Name'].startswith('ActivityPatch')]\n",
    "\n",
    "subject_events = api.load(root, exp02.ExperimentalMetadata.SubjectState)\n",
    "sessions = visits(subject_events[subject_events.id.str.startswith(\"BAA-\")])"
   ]
  },
  {
   "cell_type": "markdown",
   "metadata": {},
   "source": [
    "# Choose Valid Sessions"
   ]
  },
  {
   "cell_type": "code",
   "execution_count": 4,
   "metadata": {},
   "outputs": [],
   "source": [
    "sessions_ = sessions.iloc[[4,8,10,11,14,16,17,20,23,24,25,26,28,29,30,31]]\n",
    "short_sessions = sessions.iloc[[4,16,17,20,23,24,25,26,28,29,30,31]]\n",
    "long_sessions = sessions.iloc[[8, 10, 11, 14]]"
   ]
  },
  {
   "cell_type": "markdown",
   "metadata": {},
   "source": [
    "# Filter Each Session"
   ]
  },
  {
   "cell_type": "markdown",
   "metadata": {},
   "source": [
    "## Short Sessions"
   ]
  },
  {
   "cell_type": "code",
   "execution_count": 5,
   "metadata": {},
   "outputs": [
    {
     "name": "stdout",
     "output_type": "stream",
     "text": [
      "BAA-1100700\n",
      "BAA-1101818\n"
     ]
    },
    {
     "name": "stderr",
     "output_type": "stream",
     "text": [
      "/nfs/nhome/live/zimol/anaconda3/envs/lds/lib/python3.9/site-packages/numpy/linalg/linalg.py:2086: RuntimeWarning: overflow encountered in slogdet\n",
      "  sign, logdet = _umath_linalg.slogdet(a, signature=signature)\n",
      "/nfs/nhome/live/zimol/anaconda3/envs/lds/lib/python3.9/site-packages/numpy/linalg/linalg.py:2086: RuntimeWarning: invalid value encountered in slogdet\n",
      "  sign, logdet = _umath_linalg.slogdet(a, signature=signature)\n"
     ]
    },
    {
     "name": "stdout",
     "output_type": "stream",
     "text": [
      "BAA-1101819\n"
     ]
    },
    {
     "name": "stderr",
     "output_type": "stream",
     "text": [
      "/nfs/nhome/live/zimol/ProjectAeon/aeon_mecha/inference.py:359: RuntimeWarning: overflow encountered in matmul\n",
      "  logLike = logLike-np.linalg.slogdet(Sn[:, :, k])[1] - innov[:, :, k].T @ Sinv @ innov[:, :, k]\n",
      "/nfs/nhome/live/zimol/ProjectAeon/aeon_mecha/inference.py:359: RuntimeWarning: invalid value encountered in subtract\n",
      "  logLike = logLike-np.linalg.slogdet(Sn[:, :, k])[1] - innov[:, :, k].T @ Sinv @ innov[:, :, k]\n"
     ]
    },
    {
     "name": "stdout",
     "output_type": "stream",
     "text": [
      "BAA-1101818\n"
     ]
    },
    {
     "name": "stderr",
     "output_type": "stream",
     "text": [
      "/nfs/nhome/live/zimol/ProjectAeon/aeon_mecha/inference.py:359: RuntimeWarning: overflow encountered in matmul\n",
      "  logLike = logLike-np.linalg.slogdet(Sn[:, :, k])[1] - innov[:, :, k].T @ Sinv @ innov[:, :, k]\n"
     ]
    },
    {
     "name": "stdout",
     "output_type": "stream",
     "text": [
      "BAA-1101818\n"
     ]
    },
    {
     "name": "stderr",
     "output_type": "stream",
     "text": [
      "/nfs/nhome/live/zimol/ProjectAeon/aeon_mecha/inference.py:359: RuntimeWarning: overflow encountered in matmul\n",
      "  logLike = logLike-np.linalg.slogdet(Sn[:, :, k])[1] - innov[:, :, k].T @ Sinv @ innov[:, :, k]\n",
      "/nfs/nhome/live/zimol/ProjectAeon/aeon_mecha/inference.py:359: RuntimeWarning: invalid value encountered in subtract\n",
      "  logLike = logLike-np.linalg.slogdet(Sn[:, :, k])[1] - innov[:, :, k].T @ Sinv @ innov[:, :, k]\n"
     ]
    },
    {
     "name": "stdout",
     "output_type": "stream",
     "text": [
      "BAA-1101823\n"
     ]
    },
    {
     "name": "stderr",
     "output_type": "stream",
     "text": [
      "/nfs/nhome/live/zimol/ProjectAeon/aeon_mecha/inference.py:359: RuntimeWarning: overflow encountered in matmul\n",
      "  logLike = logLike-np.linalg.slogdet(Sn[:, :, k])[1] - innov[:, :, k].T @ Sinv @ innov[:, :, k]\n",
      "/nfs/nhome/live/zimol/ProjectAeon/aeon_mecha/inference.py:359: RuntimeWarning: invalid value encountered in subtract\n",
      "  logLike = logLike-np.linalg.slogdet(Sn[:, :, k])[1] - innov[:, :, k].T @ Sinv @ innov[:, :, k]\n"
     ]
    },
    {
     "name": "stdout",
     "output_type": "stream",
     "text": [
      "BAA-1101821\n"
     ]
    },
    {
     "name": "stderr",
     "output_type": "stream",
     "text": [
      "/nfs/nhome/live/zimol/anaconda3/envs/lds/lib/python3.9/site-packages/numpy/linalg/linalg.py:2086: RuntimeWarning: overflow encountered in slogdet\n",
      "  sign, logdet = _umath_linalg.slogdet(a, signature=signature)\n",
      "/nfs/nhome/live/zimol/anaconda3/envs/lds/lib/python3.9/site-packages/numpy/linalg/linalg.py:2086: RuntimeWarning: invalid value encountered in slogdet\n",
      "  sign, logdet = _umath_linalg.slogdet(a, signature=signature)\n"
     ]
    },
    {
     "name": "stdout",
     "output_type": "stream",
     "text": [
      "BAA-1101819\n"
     ]
    },
    {
     "name": "stderr",
     "output_type": "stream",
     "text": [
      "/nfs/nhome/live/zimol/anaconda3/envs/lds/lib/python3.9/site-packages/numpy/linalg/linalg.py:2086: RuntimeWarning: overflow encountered in slogdet\n",
      "  sign, logdet = _umath_linalg.slogdet(a, signature=signature)\n",
      "/nfs/nhome/live/zimol/anaconda3/envs/lds/lib/python3.9/site-packages/numpy/linalg/linalg.py:2086: RuntimeWarning: invalid value encountered in slogdet\n",
      "  sign, logdet = _umath_linalg.slogdet(a, signature=signature)\n",
      "/nfs/nhome/live/zimol/ProjectAeon/aeon_mecha/inference.py:359: RuntimeWarning: overflow encountered in matmul\n",
      "  logLike = logLike-np.linalg.slogdet(Sn[:, :, k])[1] - innov[:, :, k].T @ Sinv @ innov[:, :, k]\n"
     ]
    },
    {
     "name": "stdout",
     "output_type": "stream",
     "text": [
      "BAA-1101818\n"
     ]
    },
    {
     "name": "stderr",
     "output_type": "stream",
     "text": [
      "/nfs/nhome/live/zimol/anaconda3/envs/lds/lib/python3.9/site-packages/numpy/linalg/linalg.py:2086: RuntimeWarning: overflow encountered in slogdet\n",
      "  sign, logdet = _umath_linalg.slogdet(a, signature=signature)\n",
      "/nfs/nhome/live/zimol/anaconda3/envs/lds/lib/python3.9/site-packages/numpy/linalg/linalg.py:2086: RuntimeWarning: invalid value encountered in slogdet\n",
      "  sign, logdet = _umath_linalg.slogdet(a, signature=signature)\n"
     ]
    },
    {
     "name": "stdout",
     "output_type": "stream",
     "text": [
      "BAA-1101819\n"
     ]
    },
    {
     "name": "stderr",
     "output_type": "stream",
     "text": [
      "/nfs/nhome/live/zimol/anaconda3/envs/lds/lib/python3.9/site-packages/numpy/linalg/linalg.py:2086: RuntimeWarning: overflow encountered in slogdet\n",
      "  sign, logdet = _umath_linalg.slogdet(a, signature=signature)\n",
      "/nfs/nhome/live/zimol/anaconda3/envs/lds/lib/python3.9/site-packages/numpy/linalg/linalg.py:2086: RuntimeWarning: invalid value encountered in slogdet\n",
      "  sign, logdet = _umath_linalg.slogdet(a, signature=signature)\n"
     ]
    },
    {
     "name": "stdout",
     "output_type": "stream",
     "text": [
      "BAA-1101818\n",
      "BAA-1101819\n"
     ]
    },
    {
     "name": "stderr",
     "output_type": "stream",
     "text": [
      "/nfs/nhome/live/zimol/ProjectAeon/aeon_mecha/inference.py:359: RuntimeWarning: overflow encountered in matmul\n",
      "  logLike = logLike-np.linalg.slogdet(Sn[:, :, k])[1] - innov[:, :, k].T @ Sinv @ innov[:, :, k]\n"
     ]
    }
   ],
   "source": [
    "LL_Manual, LL_Learned = [], []\n",
    "for session, count in zip(list(short_sessions.itertuples()), range(len(short_sessions))):\n",
    "    print(session.id)\n",
    "    title = 'ShortSession'+str(count)\n",
    "    start, end = session.enter, session.exit\n",
    "    mouse_pos = api.load(root, exp02.CameraTop.Position, start=start, end=end)\n",
    "    \n",
    "    temp_df = mouse_pos.dropna(subset=['x', 'y'])\n",
    "    first_valid_index = temp_df.index[0]\n",
    "    last_valid_index = temp_df.index[-1]\n",
    "    mouse_pos = mouse_pos.loc[first_valid_index:last_valid_index]\n",
    "    \n",
    "    mouse_pos = kinematics.FixNan(mouse_pos)\n",
    "    \n",
    "    obs = np.transpose(mouse_pos[[\"x\", \"y\"]].to_numpy())\n",
    "\n",
    "    date_times = pd.to_datetime(mouse_pos.index)\n",
    "    dt = (date_times[1]-date_times[0]).total_seconds()\n",
    "\n",
    "    P = np.load('LongSession0Parameters.npz',allow_pickle=True)\n",
    "    sigma_a, sigma_x, sigma_y, sqrt_diag_V0_value, B, Qe, m0, V0, Z, R = P['sigma_a'].item(), P['sigma_x'].item(), P['sigma_y'].item(), P['sqrt_diag_V0_value'].item(), P['B'], P['Qe'], P['m0'], P['V0'], P['Z'], P['R']\n",
    "    \n",
    "    Q = sigma_a**2*Qe\n",
    "\n",
    "    filterRes = inference.filterLDS_SS_withMissingValues_np(\n",
    "        y=obs, B=B, Q=Q, m0=m0, V0=V0, Z=Z, R=R)\n",
    "    LL_Learned.append(filterRes['logLike'])\n",
    "\n",
    "    sigma_a, sigma_x, sigma_y, sqrt_diag_V0_value, B, Qe, m0, V0, Z, R = kinematics.LDSParameters_Manual(dt=0.02)    \n",
    "    Q = sigma_a**2*Qe\n",
    "\n",
    "    filterRes = inference.filterLDS_SS_withMissingValues_np(\n",
    "        y=obs, B=B, Q=Q, m0=m0, V0=V0, Z=Z, R=R)\n",
    "    LL_Manual.append(filterRes['logLike'])"
   ]
  },
  {
   "cell_type": "code",
   "execution_count": 6,
   "metadata": {},
   "outputs": [
    {
     "data": {
      "image/png": "[encoded data removed]",
      "text/plain": [
       "<Figure size 640x480 with 1 Axes>"
      ]
     },
     "metadata": {},
     "output_type": "display_data"
    }
   ],
   "source": [
    "plt.scatter(LL_Manual, LL_Learned)\n",
    "plt.xlabel(\"LL of Manual Paramaters\")\n",
    "plt.ylabel(\"LL of Learned Paramaters\")\n",
    "plt.show()"
   ]
  },
  {
   "cell_type": "code",
   "execution_count": 8,
   "metadata": {},
   "outputs": [
    {
     "data": {
      "text/plain": [
       "[array([[inf]]),\n",
       " array([[inf]]),\n",
       " array([[nan]]),\n",
       " array([[-3114886.00816232]]),\n",
       " array([[nan]]),\n",
       " array([[nan]]),\n",
       " array([[-33341017.13399659]]),\n",
       " array([[nan]]),\n",
       " array([[nan]]),\n",
       " array([[nan]]),\n",
       " array([[-1.69507792e+41]]),\n",
       " array([[-inf]])]"
      ]
     },
     "execution_count": 8,
     "metadata": {},
     "output_type": "execute_result"
    }
   ],
   "source": [
    "LL_Learned"
   ]
  },
  {
   "cell_type": "code",
   "execution_count": 9,
   "metadata": {},
   "outputs": [
    {
     "data": {
      "text/plain": [
       "[array([[inf]]),\n",
       " array([[nan]]),\n",
       " array([[-inf]]),\n",
       " array([[-inf]]),\n",
       " array([[-inf]]),\n",
       " array([[-3.6231892e+08]]),\n",
       " array([[nan]]),\n",
       " array([[-inf]]),\n",
       " array([[nan]]),\n",
       " array([[inf]]),\n",
       " array([[inf]]),\n",
       " array([[inf]])]"
      ]
     },
     "execution_count": 9,
     "metadata": {},
     "output_type": "execute_result"
    }
   ],
   "source": [
    "LL_Manual"
   ]
  },
  {
   "cell_type": "code",
   "execution_count": 12,
   "metadata": {},
   "outputs": [],
   "source": [
    "np.save(\"LL.npy\", LL_Manual)"
   ]
  },
  {
   "cell_type": "markdown",
   "metadata": {},
   "source": [
    "## Long Sessions"
   ]
  },
  {
   "cell_type": "code",
   "execution_count": null,
   "metadata": {},
   "outputs": [],
   "source": [
    "P = np.load('LongSession0Parameters.npz',allow_pickle=True)\n",
    "sigma_a, sigma_x, sigma_y, sqrt_diag_V0_value, B, Qe, m0, V0, Z, R = P['sigma_a'].item(), P['sigma_x'].item(), P['sigma_y'].item(), P['sqrt_diag_V0_value'].item(), P['B'], P['Qe'], P['m0'], P['V0'], P['Z'], P['R']\n",
    "dt = 0.019968\n",
    "\n",
    "for session, count in zip(list(long_sessions.itertuples()), range(len(long_sessions))):\n",
    "    print(session.id)\n",
    "    title = 'LongSession'+str(count)\n",
    "    start, end = session.enter, session.exit\n",
    "    mouse_pos = api.load(root, exp02.CameraTop.Position, start=start, end=end)\n",
    "    mouse_pos = kinematics.ProcessRawData(mouse_pos, root, start, end)\n",
    "        \n",
    "    obs = np.transpose(mouse_pos[[\"x\", \"y\"]].to_numpy())\n",
    "    sigma_a, sigma_x, sigma_y, sqrt_diag_V0_value, B, Qe, m0, V0, Z, R = kinematics.LDSParameters_Learned(obs[:,:2000], dt, sigma_a, sigma_x, sigma_y, sqrt_diag_V0_value, B, Qe, m0, Z)\n",
    "    np.savez(title + 'Parameters.npz', sigma_a = sigma_a, sigma_x = sigma_x, sigma_y = sigma_y, sqrt_diag_V0_value = sqrt_diag_V0_value, B = B, Qe = Qe, m0 = m0, V0 = V0, Z = Z, R = R)\n",
    "        \n",
    "    Q = sigma_a**2*Qe\n",
    "\n",
    "    filterRes = inference.filterLDS_SS_withMissingValues_np(\n",
    "            y=obs, B=B, Q=Q, m0=m0, V0=V0, Z=Z, R=R)\n",
    "    np.savez_compressed(title + 'filterRes.npz', **filterRes)\n",
    "        \n",
    "    smoothRes = inference.smoothLDS_SS( \n",
    "            B=B, xnn=filterRes[\"xnn\"], Vnn=filterRes[\"Vnn\"],\n",
    "            xnn1=filterRes[\"xnn1\"], Vnn1=filterRes[\"Vnn1\"], m0=m0, V0=V0)\n",
    "    np.savez_compressed(title + 'smoothRes.npz', **smoothRes)\n",
    "    \n",
    "    patch.AddKinematics(title, mouse_pos)\n",
    "\n",
    "\n",
    "    mouse_pos = mouse_pos.dropna(subset=['x'])\n",
    "    fig, axs = plt.subplots(4,1, figsize = (40,24))\n",
    "    mouse_pos.x.plot(ax = axs[0])\n",
    "    mouse_pos.y.plot(ax = axs[0])\n",
    "    mouse_pos.smoothed_position_x.plot(ax = axs[1])\n",
    "    mouse_pos.smoothed_position_y.plot(ax = axs[1])\n",
    "    mouse_pos.smoothed_speed.plot(ax = axs[2])\n",
    "    mouse_pos.smoothed_acceleration.plot(ax = axs[3])\n",
    "    plt.savefig('images/Kinematics/' + title+'.png')"
   ]
  },
  {
   "cell_type": "code",
   "execution_count": 12,
   "metadata": {},
   "outputs": [
    {
     "data": {
      "text/plain": [
       "0"
      ]
     },
     "execution_count": 12,
     "metadata": {},
     "output_type": "execute_result"
    }
   ],
   "source": [
    "count"
   ]
  }
 ],
 "metadata": {
  "kernelspec": {
   "display_name": "lds",
   "language": "python",
   "name": "python3"
  },
  "language_info": {
   "codemirror_mode": {
    "name": "ipython",
    "version": 3
   },
   "file_extension": ".py",
   "mimetype": "text/x-python",
   "name": "python",
   "nbconvert_exporter": "python",
   "pygments_lexer": "ipython3",
   "version": "3.9.18"
  }
 },
 "nbformat": 4,
 "nbformat_minor": 2
}
